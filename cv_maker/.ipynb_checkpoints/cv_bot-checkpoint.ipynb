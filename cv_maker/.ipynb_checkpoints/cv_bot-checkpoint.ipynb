{
 "cells": [
  {
   "cell_type": "markdown",
   "metadata": {},
   "source": []
  },
  {
   "cell_type": "code",
   "execution_count": 1,
   "metadata": {
    "scrolled": true
   },
   "outputs": [
    {
     "name": "stdout",
     "output_type": "stream",
     "text": [
      "Reading package lists... Done\n",
      "Building dependency tree       \n",
      "Reading state information... Done\n",
      "texlive-base is already the newest version (2017.20180305-1).\n",
      "The following packages were automatically installed and are no longer required:\n",
      "  linux-aws-5.3-headers-5.3.0-1017 linux-aws-5.3-headers-5.3.0-1019\n",
      "  linux-aws-5.3-headers-5.3.0-1023 linux-aws-5.3-headers-5.3.0-1028\n",
      "  linux-aws-5.3-headers-5.3.0-1030 linux-aws-5.3-headers-5.3.0-1032\n",
      "  linux-aws-5.3-headers-5.3.0-1033 linux-aws-5.3-headers-5.3.0-1034\n",
      "  linux-aws-5.3-headers-5.3.0-1035 linux-aws-headers-4.15.0-1060\n",
      "  linux-aws-headers-4.15.0-1063 linux-aws-headers-4.15.0-1065\n",
      "Use 'sudo apt autoremove' to remove them.\n",
      "0 upgraded, 0 newly installed, 0 to remove and 74 not upgraded.\n",
      "Reading package lists... Done\n",
      "Building dependency tree       \n",
      "Reading state information... Done\n",
      "texlive-fonts-recommended is already the newest version (2017.20180305-1).\n",
      "The following packages were automatically installed and are no longer required:\n",
      "  linux-aws-5.3-headers-5.3.0-1017 linux-aws-5.3-headers-5.3.0-1019\n",
      "  linux-aws-5.3-headers-5.3.0-1023 linux-aws-5.3-headers-5.3.0-1028\n",
      "  linux-aws-5.3-headers-5.3.0-1030 linux-aws-5.3-headers-5.3.0-1032\n",
      "  linux-aws-5.3-headers-5.3.0-1033 linux-aws-5.3-headers-5.3.0-1034\n",
      "  linux-aws-5.3-headers-5.3.0-1035 linux-aws-headers-4.15.0-1060\n",
      "  linux-aws-headers-4.15.0-1063 linux-aws-headers-4.15.0-1065\n",
      "Use 'sudo apt autoremove' to remove them.\n",
      "0 upgraded, 0 newly installed, 0 to remove and 74 not upgraded.\n",
      "Reading package lists... Done\n",
      "Building dependency tree       \n",
      "Reading state information... Done\n",
      "The following packages were automatically installed and are no longer required:\n",
      "  linux-aws-5.3-headers-5.3.0-1017 linux-aws-5.3-headers-5.3.0-1019\n",
      "  linux-aws-5.3-headers-5.3.0-1023 linux-aws-5.3-headers-5.3.0-1028\n",
      "  linux-aws-5.3-headers-5.3.0-1030 linux-aws-5.3-headers-5.3.0-1032\n",
      "  linux-aws-5.3-headers-5.3.0-1033 linux-aws-5.3-headers-5.3.0-1034\n",
      "  linux-aws-5.3-headers-5.3.0-1035 linux-aws-headers-4.15.0-1060\n",
      "  linux-aws-headers-4.15.0-1063 linux-aws-headers-4.15.0-1065\n",
      "Use 'sudo apt autoremove' to remove them.\n",
      "The following additional packages will be installed:\n",
      "  fonts-adf-accanthis fonts-adf-berenis fonts-adf-gillius\n",
      "  fonts-adf-universalis fonts-cabin fonts-comfortaa fonts-croscore\n",
      "  fonts-ebgaramond fonts-ebgaramond-extra fonts-font-awesome\n",
      "  fonts-freefont-otf fonts-freefont-ttf fonts-gfs-artemisia\n",
      "  fonts-gfs-complutum fonts-gfs-didot fonts-gfs-neohellenic fonts-gfs-olga\n",
      "  fonts-gfs-solomos fonts-go fonts-junicode fonts-lobster fonts-lobstertwo\n",
      "  fonts-noto-hinted fonts-oflb-asana-math fonts-open-sans fonts-roboto-hinted\n",
      "  fonts-sil-gentiumplus fonts-sil-gentiumplus-compact fonts-stix\n",
      "  texlive-fonts-extra-links\n",
      "Suggested packages:\n",
      "  fontforge cm-super texlive-fonts-extra-doc\n",
      "The following NEW packages will be installed:\n",
      "  fonts-adf-accanthis fonts-adf-berenis fonts-adf-gillius\n",
      "  fonts-adf-universalis fonts-cabin fonts-comfortaa fonts-croscore\n",
      "  fonts-ebgaramond fonts-ebgaramond-extra fonts-font-awesome\n",
      "  fonts-freefont-otf fonts-freefont-ttf fonts-gfs-artemisia\n",
      "  fonts-gfs-complutum fonts-gfs-didot fonts-gfs-neohellenic fonts-gfs-olga\n",
      "  fonts-gfs-solomos fonts-go fonts-junicode fonts-lobster fonts-lobstertwo\n",
      "  fonts-noto-hinted fonts-oflb-asana-math fonts-open-sans fonts-roboto-hinted\n",
      "  fonts-sil-gentiumplus fonts-sil-gentiumplus-compact fonts-stix\n",
      "  texlive-fonts-extra texlive-fonts-extra-links\n",
      "0 upgraded, 31 newly installed, 0 to remove and 74 not upgraded.\n",
      "Need to get 385 MB of archives.\n",
      "After this operation, 1025 MB of additional disk space will be used.\n",
      "E: You don't have enough free space in /var/cache/apt/archives/.\n",
      "Reading package lists... Done\n",
      "Building dependency tree       \n",
      "Reading state information... Done\n",
      "texlive-latex-extra is already the newest version (2017.20180305-2).\n",
      "The following packages were automatically installed and are no longer required:\n",
      "  linux-aws-5.3-headers-5.3.0-1017 linux-aws-5.3-headers-5.3.0-1019\n",
      "  linux-aws-5.3-headers-5.3.0-1023 linux-aws-5.3-headers-5.3.0-1028\n",
      "  linux-aws-5.3-headers-5.3.0-1030 linux-aws-5.3-headers-5.3.0-1032\n",
      "  linux-aws-5.3-headers-5.3.0-1033 linux-aws-5.3-headers-5.3.0-1034\n",
      "  linux-aws-5.3-headers-5.3.0-1035 linux-aws-headers-4.15.0-1060\n",
      "  linux-aws-headers-4.15.0-1063 linux-aws-headers-4.15.0-1065\n",
      "Use 'sudo apt autoremove' to remove them.\n",
      "0 upgraded, 0 newly installed, 0 to remove and 74 not upgraded.\n"
     ]
    }
   ],
   "source": [
    "#install LaTex\n",
    "#!pdflatex --version\n",
    "!sudo apt-get install -y texlive-base\n",
    "#!sudo apt-get install -y biblatex\n",
    "!sudo apt-get install -y texlive-fonts-recommended\n",
    "!sudo apt-get install -y texlive-fonts-extra\n",
    "!sudo apt-get install -y texlive-latex-extra"
   ]
  },
  {
   "cell_type": "code",
   "execution_count": 2,
   "metadata": {
    "collapsed": true
   },
   "outputs": [
    {
     "name": "stdout",
     "output_type": "stream",
     "text": [
      "pdfTeX 3.14159265-2.6-1.40.18 (TeX Live 2017/Debian)\r\n",
      "kpathsea version 6.2.3\r\n",
      "Copyright 2017 Han The Thanh (pdfTeX) et al.\r\n",
      "There is NO warranty.  Redistribution of this software is\r\n",
      "covered by the terms of both the pdfTeX copyright and\r\n",
      "the Lesser GNU General Public License.\r\n",
      "For more information about these matters, see the file\r\n",
      "named COPYING and the pdfTeX source.\r\n",
      "Primary author of pdfTeX: Han The Thanh (pdfTeX) et al.\r\n",
      "Compiled with libpng 1.6.34; using libpng 1.6.34\r\n",
      "Compiled with zlib 1.2.11; using zlib 1.2.11\r\n",
      "Compiled with poppler version 0.62.0\r\n"
     ]
    }
   ],
   "source": [
    "#Check if installation is successful\n",
    "!pdflatex --version"
   ]
  },
  {
   "cell_type": "code",
   "execution_count": 1,
   "metadata": {},
   "outputs": [],
   "source": [
    "import numpy as np \n",
    "import pandas as pd\n",
    "import os\n",
    "import subprocess\n",
    "from pdflatex import PDFLaTeX"
   ]
  },
  {
   "cell_type": "code",
   "execution_count": null,
   "metadata": {},
   "outputs": [],
   "source": [
    "# Define helper functions\n",
    "def save_pdf(name, pdf):\n",
    "    file_path = '/home/jupyter-jautomation/06_cv_maker/cvs/' + name + '.pdf'\n",
    "    \n",
    "    with open(file_path, 'wb') as f:\n",
    "     f.write(pdf)\n",
    "     f.close()\n",
    "        \n",
    "def "
   ]
  },
  {
   "cell_type": "code",
   "execution_count": 2,
   "metadata": {},
   "outputs": [],
   "source": [
    "#Import csv with all candidate data\n",
    "\n",
    "\n",
    "df = pd.read_csv(\"CSV.csv\")"
   ]
  },
  {
   "cell_type": "code",
   "execution_count": 3,
   "metadata": {},
   "outputs": [],
   "source": [
    "# CREATE A DICTIONARE OUT OF THE CSV DATA\n",
    "dict_template = dict()\n",
    "for elem in df.columns:\n",
    "\tdict_template[elem] = df.iloc[0][elem]"
   ]
  },
  {
   "cell_type": "code",
   "execution_count": 7,
   "metadata": {},
   "outputs": [
    {
     "name": "stdout",
     "output_type": "stream",
     "text": [
      "dict_keys(['Name', 'Nationality', 'DOB', 'Permit', 'Education1', 'Level1', 'Major1', 'Specialization1', 'Period1', 'Grade1', 'Education2', 'Level2', 'Major2', 'Specialization2', 'Period2', 'Grade2', 'Education3', 'Level3', 'Major3', 'Specialization3', 'Period3', 'Grade3', 'Experience1', 'JobTitle1', 'JobPeriod1', 'Position1', 'JobDescription1', 'Project1', 'TypeProject1', 'GradeProject1', 'DescProject1', 'Project2', 'TypeProject2', 'GradeProject2', 'DescProject2', 'Project3', 'TypeProject3', 'GradeProject3', 'DescProject3', 'Project4', 'TypeProject4', 'GradeProject4', 'DescProject4', 'DesJobType', 'StartDate', 'TravelAct', 'POW', 'AOI1', 'AOI2', 'AOI3', 'AOI4', 'AOI5', 'CareerGoal', 'PositionReq', 'Extra1', 'Activity1', 'ExtraDes1', 'ExtraPeriod1', 'Extra2', 'Activity2', 'ExtraPeriod2', 'ExtraDes2', 'Lan1', 'Lev1', 'Lan2', 'Lev2', 'Lan3', 'Lev3', 'Lan4', 'Lev4', 'Lan5', 'Lev5', 'IT1', 'LevIT1', 'DesIT1', 'IT2', 'LevIT2', 'DesIT2', 'IT3', 'LevIT3', 'DesIT3', 'IT4', 'LevIT4', 'DesIT4', 'IT5', 'LevIT5', 'DesIT5', 'IT6', 'LevIT6', 'DesIT6', 'IT7', 'LevIT7', 'DesIT7', 'IT8', 'LevIT8', 'DesIT8', 'IT9', 'LevIT9', 'DesIT9', 'IT10', 'LevIT10', 'DesIT10', 'IT11', 'LevIT11', 'DesIT11', 'IT12', 'LevIT12', 'DesIT12', 'About1', 'AboutDes1', 'About2', 'AboutDes2'])\n"
     ]
    }
   ],
   "source": [
    "print(dict_template.keys())"
   ]
  },
  {
   "cell_type": "code",
   "execution_count": 6,
   "metadata": {},
   "outputs": [],
   "source": [
    "# REPLACE & SYMBOL WITH AND, OTHERWISE LATEX CODE DOES NOT COMPILE\n",
    "# REPLACE 6.0 WITH 6 (ORIGINAL DF COLUMNS FOR GRADES ARE FLOAT)\n",
    "for key, value in dict_template.items():\n",
    "\tif(str(value).find('&')>=0):\n",
    "\t\tdict_template[key] = str(value).replace('&','and')\n",
    "\tif(str(value).find('6.0')>=0):\n",
    "\t\tdict_template[key] = str(value).replace('6.0','6')\n",
    "\n",
    "\n",
    "# REPLACE PLACEHOLDERS IN LATEX TEMPLATE WITH VALUES EXCTRACTED FROM THE CSV FILE, \n",
    "# THEN CREATE THE FINAL LATEX TEMPLATE\n",
    "with open('Latex_template.tex','r') as file:\n",
    "\ttext = file.read()\n",
    "\n",
    "\tfor key, value in dict_template.items():\n",
    "\t\ttext = text.replace('$'+key+'$', str(value))\n",
    "\n",
    "\twith open('Latex_template_modified.tex', 'w') as output:\n",
    "\t\toutput.write(text)"
   ]
  },
  {
   "cell_type": "code",
   "execution_count": 18,
   "metadata": {},
   "outputs": [],
   "source": [
    "pdfl = PDFLaTeX.from_texfile('Latex_template_modified.tex')\n",
    "pdf, log, completed_process= pdfl.create_pdf()"
   ]
  },
  {
   "cell_type": "code",
   "execution_count": null,
   "metadata": {},
   "outputs": [],
   "source": []
  },
  {
   "cell_type": "code",
   "execution_count": null,
   "metadata": {},
   "outputs": [],
   "source": []
  },
  {
   "cell_type": "code",
   "execution_count": 13,
   "metadata": {},
   "outputs": [],
   "source": []
  },
  {
   "cell_type": "code",
   "execution_count": null,
   "metadata": {},
   "outputs": [],
   "source": []
  },
  {
   "cell_type": "code",
   "execution_count": null,
   "metadata": {},
   "outputs": [],
   "source": []
  },
  {
   "cell_type": "code",
   "execution_count": null,
   "metadata": {},
   "outputs": [],
   "source": []
  },
  {
   "cell_type": "code",
   "execution_count": null,
   "metadata": {},
   "outputs": [],
   "source": []
  },
  {
   "cell_type": "code",
   "execution_count": null,
   "metadata": {},
   "outputs": [],
   "source": []
  },
  {
   "cell_type": "code",
   "execution_count": null,
   "metadata": {},
   "outputs": [],
   "source": []
  }
 ],
 "metadata": {
  "kernelspec": {
   "display_name": "Python 3",
   "language": "python",
   "name": "python3"
  },
  "language_info": {
   "codemirror_mode": {
    "name": "ipython",
    "version": 3
   },
   "file_extension": ".py",
   "mimetype": "text/x-python",
   "name": "python",
   "nbconvert_exporter": "python",
   "pygments_lexer": "ipython3",
   "version": "3.6.7"
  }
 },
 "nbformat": 4,
 "nbformat_minor": 2
}
